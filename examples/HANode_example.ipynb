{
 "cells": [
  {
   "cell_type": "code",
   "execution_count": null,
   "metadata": {},
   "outputs": [],
   "source": [
    "'''\n",
    "Requirement:\n",
    "    codelab-adapter v2\n",
    "    ha_async_extension.py extension\n",
    "'''"
   ]
  },
  {
   "cell_type": "code",
   "execution_count": 1,
   "metadata": {},
   "outputs": [],
   "source": [
    "from codelab_adapter_client import  HANode"
   ]
  },
  {
   "cell_type": "code",
   "execution_count": 2,
   "metadata": {},
   "outputs": [],
   "source": [
    "class MyNode(HANode):\n",
    "    _id = 1\n",
    "    def control_light(self, service=\"turn_off\", entity_id=\"light.yeelight1\"):\n",
    "        content = {\n",
    "              \"id\": self._id,\n",
    "              \"type\": \"call_service\",\n",
    "              \"domain\": \"light\",\n",
    "              \"service\": service,\n",
    "              \"service_data\": {\n",
    "                \"entity_id\": entity_id\n",
    "                }\n",
    "            }\n",
    "        self._id += 1\n",
    "        message = self.message_template()\n",
    "        message['payload']['content'] = content\n",
    "        self.publish(message)"
   ]
  },
  {
   "cell_type": "code",
   "execution_count": 3,
   "metadata": {},
   "outputs": [],
   "source": [
    "node = MyNode()"
   ]
  },
  {
   "cell_type": "code",
   "execution_count": 14,
   "metadata": {},
   "outputs": [],
   "source": [
    "node.control_light(service=\"turn_off\")"
   ]
  }
 ],
 "metadata": {
  "kernelspec": {
   "display_name": "Python 3",
   "language": "python",
   "name": "python3"
  },
  "language_info": {
   "codemirror_mode": {
    "name": "ipython",
    "version": 3
   },
   "file_extension": ".py",
   "mimetype": "text/x-python",
   "name": "python",
   "nbconvert_exporter": "python",
   "pygments_lexer": "ipython3",
   "version": "3.7.2"
  }
 },
 "nbformat": 4,
 "nbformat_minor": 2
}
